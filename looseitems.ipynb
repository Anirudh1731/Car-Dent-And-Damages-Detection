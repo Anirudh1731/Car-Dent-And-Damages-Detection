{
 "cells": [
  {
   "cell_type": "code",
   "execution_count": 10,
   "metadata": {},
   "outputs": [],
   "source": [
    "import cv2\n",
    "from ultralytics import YOLO\n",
    "import os"
   ]
  },
  {
   "cell_type": "code",
   "execution_count": 11,
   "metadata": {},
   "outputs": [],
   "source": [
    "input_folder=\"C:/Users/Anirudh/OneDrive/Desktop/input\"\n"
   ]
  },
  {
   "cell_type": "code",
   "execution_count": 12,
   "metadata": {},
   "outputs": [],
   "source": [
    "output_folder=\"C:/Users/Anirudh/OneDrive/Desktop/output\""
   ]
  },
  {
   "cell_type": "code",
   "execution_count": 13,
   "metadata": {},
   "outputs": [],
   "source": [
    "category_colors = {\n",
    "    0: (255, 0, 0),  # Red\n",
    "    1: (0, 255, 0),   # Green\n",
    "    2: (0, 0, 255) ,     # Blue\n",
    "    3:(255, 0, 255),\n",
    "    4:(160,32,240),\n",
    "    5:(173,216,230)\n",
    "}\n",
    "\n",
    "model = YOLO('C:/Users/Anirudh/OneDrive/Desktop/FlaskApi/loose.pt') "
   ]
  },
  {
   "cell_type": "code",
   "execution_count": 14,
   "metadata": {},
   "outputs": [],
   "source": [
    "model = YOLO(\"yolov8s.pt\") "
   ]
  },
  {
   "cell_type": "code",
   "execution_count": 15,
   "metadata": {},
   "outputs": [],
   "source": [
    "\n",
    "\n",
    "# Ensure output folder exists\n",
    "if not os.path.exists(output_folder):\n",
    "    os.makedirs(output_folder)\n",
    "\n",
    "# Iterate over images in the input folder\n",
    "for i in os.listdir(input_folder):\n",
    "    image_path = os.path.join(input_folder, i)\n",
    "    image = cv2.imread(image_path)\n",
    "    \n",
    "    if image is None:\n",
    "        print(f\"Failed to read image: {image_path}\")\n",
    "        continue\n",
    "    \n",
    "    results = model.predict(image_path)            \n",
    "    for result in results:\n",
    "        print(result)\n",
    "        for box in result.boxes:\n",
    "            xyxy = box.xyxy[0].tolist()\n",
    "            x1, y1, x2, y2 = map(int, xyxy)\n",
    "            category_id = box.cls[0].item()  # Get category ID\n",
    "            confidence = box.conf[0].item()  # Get confidence score\n",
    "            category_name = result.names[category_id]  # Get category name\n",
    "            \n",
    "            # color = category_colors.get(category_id, (0, 255s, 255))  # Default to yellow if not found\n",
    "            cv2.rectangle(image, (x1, y1), (x2, y2), (0,255,0), 2)\n",
    "            label = f'{category_name}: {confidence:.2f}'\n",
    "            cv2.putText(image, label, (x1, y1 - 10), cv2.FONT_HERSHEY_SIMPLEX, 0.5, (0,255,0), 2)\n",
    "    \n",
    "    # Construct the output path\n",
    "    output_path = os.path.join(output_folder, i)\n",
    "    cv2.imwrite(output_path, image)\n",
    "    print(f\"Saved annotated image to: {output_path}\")\n"
   ]
  },
  {
   "cell_type": "code",
   "execution_count": 8,
   "metadata": {},
   "outputs": [],
   "source": [
    "from ultralytics import YOLO\n",
    "\n",
    "# Load a model\n",
    "model = YOLO(\"yolov8s.pt\") "
   ]
  },
  {
   "cell_type": "code",
   "execution_count": null,
   "metadata": {},
   "outputs": [],
   "source": [
    "result=model.predict()"
   ]
  }
 ],
 "metadata": {
  "kernelspec": {
   "display_name": ".venv",
   "language": "python",
   "name": "python3"
  },
  "language_info": {
   "codemirror_mode": {
    "name": "ipython",
    "version": 3
   },
   "file_extension": ".py",
   "mimetype": "text/x-python",
   "name": "python",
   "nbconvert_exporter": "python",
   "pygments_lexer": "ipython3",
   "version": "3.10.1"
  }
 },
 "nbformat": 4,
 "nbformat_minor": 2
}
