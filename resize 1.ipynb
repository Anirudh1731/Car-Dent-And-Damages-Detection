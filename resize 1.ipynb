{
 "cells": [
  {
   "cell_type": "code",
   "execution_count": 1,
   "id": "7c50c927",
   "metadata": {},
   "outputs": [],
   "source": [
    "import cv2\n",
    "import os\n",
    "import numpy as np"
   ]
  },
  {
   "cell_type": "code",
   "execution_count": 2,
   "id": "074228ad",
   "metadata": {},
   "outputs": [],
   "source": [
    "def resize_img(image, target_size):\n",
    "    height, width = image.shape[:2]\n",
    "    if width > height:\n",
    "        new_width = target_size\n",
    "        new_height = int(target_size * (height / width))\n",
    "    else:\n",
    "        new_height = target_size\n",
    "        new_width = int(target_size * (width / height))\n",
    "\n",
    "    resized_image = cv2.resize(image, (new_width, new_height))\n",
    "\n",
    "    x_scale = new_width / width\n",
    "    y_scale = new_height / height        \n",
    "\n",
    "    square_canvas = np.zeros((target_size, target_size, 3), dtype=np.uint8)\n",
    "\n",
    "    x_offset = (target_size - new_width) // 2\n",
    "    y_offset = (target_size - new_height) // 2\n",
    "\n",
    "    square_canvas[y_offset:y_offset + new_height, x_offset:x_offset + new_width] = resized_image\n",
    "    return square_canvas"
   ]
  },
  {
   "cell_type": "code",
   "execution_count": 3,
   "id": "3e99556f",
   "metadata": {},
   "outputs": [],
   "source": [
    "input_pth = \"dashboard_images/\"\n",
    "target_size = 640\n",
    "\n",
    "save_resized_pth = input_pth.replace(\"/\", \"\")+\"_resized/\"\n",
    "os.makedirs(save_resized_pth, exist_ok=True)\n",
    "\n",
    "for each_file in os.listdir(input_pth):\n",
    "    image_file_path = input_pth+each_file\n",
    "    \n",
    "    image = cv2.imread(image_file_path)\n",
    "    height, width = image.shape[:2]\n",
    "    \n",
    "    resized_square_image = resize_img(image, target_size)\n",
    "    \n",
    "    save_name = save_resized_pth+each_file\n",
    "    cv2.imwrite(save_name, resized_square_image)"
   ]
  },
  {
   "cell_type": "code",
   "execution_count": null,
   "id": "51d69457",
   "metadata": {},
   "outputs": [],
   "source": []
  }
 ],
 "metadata": {
  "kernelspec": {
   "display_name": "Python 3 (ipykernel)",
   "language": "python",
   "name": "python3"
  },
  "language_info": {
   "codemirror_mode": {
    "name": "ipython",
    "version": 3
   },
   "file_extension": ".py",
   "mimetype": "text/x-python",
   "name": "python",
   "nbconvert_exporter": "python",
   "pygments_lexer": "ipython3",
   "version": "3.11.5"
  }
 },
 "nbformat": 4,
 "nbformat_minor": 5
}
